{
 "cells": [
  {
   "cell_type": "markdown",
   "metadata": {},
   "source": [
    "# Resturant\n"
   ]
  },
  {
   "cell_type": "code",
   "execution_count": 6,
   "metadata": {},
   "outputs": [],
   "source": [
    "class Resturant():\n",
    "    def __init__(self,resturant_name,cuisine_type):\n",
    "        self.resturant_name = resturant_name\n",
    "        self.cuisine_type = cuisine_type\n",
    "    def describe_resturant(self):\n",
    "        print(\"Resturant Name is: \"+self.resturant_name)\n",
    "        print(\"Cuisine Type \"+self.cuisine_type)\n",
    "    def open_resturant(self):\n",
    "        print('Resturant is open')"
   ]
  },
  {
   "cell_type": "code",
   "execution_count": 7,
   "metadata": {},
   "outputs": [
    {
     "name": "stdout",
     "output_type": "stream",
     "text": [
      "Resturant Name is: Marahaba\n",
      "Cuisine Type Pakistani\n",
      "Resturant is open\n"
     ]
    }
   ],
   "source": [
    "obj1 = Resturant(\"Marahaba\", \"Pakistani\")\n",
    "obj1.describe_resturant()\n",
    "obj1.open_resturant()"
   ]
  },
  {
   "cell_type": "code",
   "execution_count": 9,
   "metadata": {},
   "outputs": [
    {
     "name": "stdout",
     "output_type": "stream",
     "text": [
      "Resturant Name is: Norani Qabab\n",
      "Cuisine Type fast food\n",
      "\n",
      "\n",
      "Resturant Name is: Pizza Point\n",
      "Cuisine Type pizza\n",
      "\n",
      "\n",
      "Resturant Name is: Allah Wala\n",
      "Cuisine Type Biryani\n",
      "\n",
      "\n"
     ]
    }
   ],
   "source": [
    "obj1 = Resturant(\"Norani Qabab\", \"fast food\")\n",
    "obj1.describe_resturant()\n",
    "print(\"\\n\")\n",
    "\n",
    "obj1 = Resturant(\"Pizza Point\", \"pizza\")\n",
    "obj1.describe_resturant()\n",
    "print(\"\\n\")\n",
    "\n",
    "obj1 = Resturant(\"Allah Wala\", \"Biryani\")\n",
    "obj1.describe_resturant()\n",
    "print(\"\\n\")\n"
   ]
  },
  {
   "cell_type": "code",
   "execution_count": 17,
   "metadata": {},
   "outputs": [],
   "source": [
    "class Users():\n",
    "    def __init__(self,first_name,last_name,age,number):\n",
    "        self.first_name = first_name\n",
    "        self.last_name = last_name\n",
    "        self.age = age\n",
    "        self.number = number\n",
    "    def describe1_user(self):\n",
    "        print(f\"User Name is: {self.first_name} {self.last_name}\")\n",
    "        print(f\"User age is: {self.age}\")\n",
    "        print(f\"User Number is: {self.number}\")\n",
    "    def greet_user(self):\n",
    "        print(f\"Welcome to Our Resturant {self.first_name} {self.last_name}\")"
   ]
  },
  {
   "cell_type": "code",
   "execution_count": 19,
   "metadata": {},
   "outputs": [
    {
     "name": "stdout",
     "output_type": "stream",
     "text": [
      "User Name is: Azaan shah\n",
      "User age is: 28\n",
      "User Number is: 923122979807\n",
      "Welcome to Our Resturant Azaan shah\n",
      "\n",
      "\n",
      "User Name is: Waseem Yaqoob\n",
      "User age is: 25\n",
      "User Number is: 923353279597\n",
      "Welcome to Our Resturant Waseem Yaqoob\n"
     ]
    }
   ],
   "source": [
    "obj5 = Users(\"Azaan\",\"shah\",28,923122979807)\n",
    "obj5.describe1_user()\n",
    "obj5.greet_user()\n",
    "print(\"\\n\")\n",
    "objb = Users(\"Waseem\",\"Yaqoob\",25,923353279597)\n",
    "objb.describe1_user()\n",
    "objb.greet_user()\n",
    "\n"
   ]
  },
  {
   "cell_type": "code",
   "execution_count": null,
   "metadata": {},
   "outputs": [],
   "source": []
  }
 ],
 "metadata": {
  "kernelspec": {
   "display_name": "Python 3",
   "language": "python",
   "name": "python3"
  },
  "language_info": {
   "codemirror_mode": {
    "name": "ipython",
    "version": 3
   },
   "file_extension": ".py",
   "mimetype": "text/x-python",
   "name": "python",
   "nbconvert_exporter": "python",
   "pygments_lexer": "ipython3",
   "version": "3.7.3"
  }
 },
 "nbformat": 4,
 "nbformat_minor": 2
}
